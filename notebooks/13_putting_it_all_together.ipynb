{
 "cells": [
  {
   "cell_type": "markdown",
   "metadata": {},
   "source": [
    "# Putting it all together\n",
    "\n",
    "*Dr Andrew Meade and Dr Jo Baker *\n",
    "\n",
    "Material modified from the original course by\n",
    "\n",
    "*Dr Chas Nelson and Mikolaj Kundegorski*\n",
    "\n",
    "*Part of https://github.com/ChasNelson1990/python-zero-to-hero-beginners-course*"
   ]
  },
  {
   "cell_type": "markdown",
   "metadata": {},
   "source": [
    "## Objectives\n",
    "\n",
    "* Apply what you have learnt to explore a dataset"
   ]
  },
  {
   "cell_type": "markdown",
   "metadata": {},
   "source": [
    "## Data\n",
    "\n",
    "We have created a simplified data version of the <a href='https://esajournals.onlinelibrary.wiley.com/doi/10.1002/ecy.3344'>COMBINE</a> dataset. \n",
    "\n",
    "A description of the data is below. \n",
    "\n",
    "| Column  | Values |\n",
    "| --- | --- |\n",
    "| binomial | binomial name |\n",
    "| order | Order name of the species |\n",
    "| adult_mass_g_log10 | Body mass of an adult individual in grams (log 10) |\n",
    "| brain_mass_g_log10 | Weight of the brain of an adult individual in grams (log 10) |\n",
    "| trophic_level | Trophic level of the species. 1 - herbivore, 2 - omnivorem, 3 - carnivore |\n",
    "| det_diet_breadth_n | Number of prevalent (≥ 20%) EltonTraits dietary categories consumed, 1-5 |\n",
    "| foraging_stratum | Assignment to one of five foraging stratum categories, M - marine, G - ground, S - scansorial, Ar - arboreal, A - aerial |\n",
    "| litter_size_n | Average number of offspring born to a female animal during a single birth |\n",
    "| litters_per_year_y | Number of litters per female per year |\n",
    "| gestation_length_d | Length of time of foetal growth, in days |\n",
    "| age_first_reproduction_d | Age at which females give birth to their first litter or their young attach to teats, in days |\n",
    "| generation_length_d | Average time between the birth of a parent and the birth of their offspring, in days |\n",
    "\n",
    "\n",
    "The code below, imports pandas, reads the data into a pandas data frame and displays the some of the data"
   ]
  },
  {
   "cell_type": "code",
   "execution_count": null,
   "metadata": {},
   "outputs": [],
   "source": [
    "import pandas as pd\n",
    "\n",
    "data = pd.read_csv(\"http://www.evolution.reading.ac.uk/RSB-Python/combine-edit.csv\")\n",
    "display(data)"
   ]
  },
  {
   "cell_type": "markdown",
   "metadata": {},
   "source": [
    "<div style=\"border: 3px solid #d95f02; border-radius: 5px; padding: 10pt\"><strong>Exercise 13.1:</strong> Using what you have learnt today, explore the data. Set yourself a question and try and answer it.\n",
    "<br/><br/>\n",
    "Questions could include. <br/>\n",
    "&emsp;How many species of each orders are there?<br/> \n",
    "&emsp;What is the relationship between brain and body size?<br/>\n",
    "&emsp;What does the distribution of litter size look like?<br/>\n",
    "&emsp;What is the maximum generation length per order?<br/>\n",
    "</div>"
   ]
  },
  {
   "cell_type": "markdown",
   "metadata": {},
   "source": [
    "## Any Bugs/Issues/Comments?\n",
    "\n",
    "Please talk to us on the zoom call if you have any questions, comments or bugs. "
   ]
  }
 ],
 "metadata": {
  "kernelspec": {
   "display_name": "Python 3 (ipykernel)",
   "language": "python",
   "name": "python3"
  },
  "language_info": {
   "codemirror_mode": {
    "name": "ipython",
    "version": 3
   },
   "file_extension": ".py",
   "mimetype": "text/x-python",
   "name": "python",
   "nbconvert_exporter": "python",
   "pygments_lexer": "ipython3",
   "version": "3.13.5"
  },
  "vscode": {
   "interpreter": {
    "hash": "d769866b6f821afb3302734fef8b56cb7dc86bcc8e4d86f160ade10a565e9457"
   }
  },
  "widgets": {
   "application/vnd.jupyter.widget-state+json": {
    "state": {},
    "version_major": 2,
    "version_minor": 0
   }
  }
 },
 "nbformat": 4,
 "nbformat_minor": 4
}
