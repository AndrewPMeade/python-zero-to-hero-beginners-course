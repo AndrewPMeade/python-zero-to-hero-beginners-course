{
 "cells": [
  {
   "cell_type": "markdown",
   "metadata": {},
   "source": [
    "# Seaborn - data visualization \n",
    "\n",
    "*Dr Andrew Meade and Dr Jo Baker *\n",
    "\n",
    "Material modified from the original course by\n",
    "\n",
    "*Dr Chas Nelson and Mikolaj Kundegorski*\n",
    "\n",
    "*Part of https://github.com/ChasNelson1990/python-zero-to-hero-beginners-course*"
   ]
  },
  {
   "cell_type": "markdown",
   "metadata": {},
   "source": [
    "## Objectives\n",
    "\n",
    "* Know about the plotting functions provided by Seaborn (`seaborn`)\n",
    "* Know how to plot a scatterplot (with a regression model) with Seaborn\n",
    "* Know how to plot boxplots with Seaborn\n",
    "* Know how to plot histogram with Seaborn\n"
   ]
  },
  {
   "cell_type": "markdown",
   "metadata": {},
   "source": [
    "## Seaborn \n",
    "\n",
    "Seaborn (`seaborn`) is a high-level data visualization library, its high-level nature means it does a lot of the work for you when visualising data, compared to lower-level libraries such as matplotlib, which it is based on. \n",
    "\n",
    "Below is a gallery of basic examples, showing how Seaborn can be used to visualize data, it is based on the iris data set which was used in the pandas workbook. Seaborn is designed to work with pandas data frames.\n",
    "\n",
    "The examples can be used as templates for plotting different data or extended for more complex plots. \n",
    "\n",
    "\n"
   ]
  },
  {
   "cell_type": "markdown",
   "metadata": {},
   "source": [
    "## Import the library and create the dataframe\n",
    "\n",
    "The code below imports three library pandas, seaborn and Matplotlib ('matplotlib'), Matplotlib underpins seaborn and allow plots to be saved. \n",
    "\n",
    "The iris data is loeaded into a dataframe called iris and the first 5 rows are displayed. \n",
    "\n",
    "The last line sets the style of the plots seaborn produces. "
   ]
  },
  {
   "cell_type": "code",
   "execution_count": null,
   "metadata": {},
   "outputs": [],
   "source": [
    "import pandas as pd\n",
    "import seaborn as sns\n",
    "import matplotlib.pyplot as plt\n",
    "\n",
    "iris = pd.read_csv(\"https://raw.githubusercontent.com/mwaskom/seaborn-data/master/iris.csv\")\n",
    "display(iris.head())\n",
    "\n",
    "sns.set_theme()"
   ]
  },
  {
   "cell_type": "markdown",
   "metadata": {},
   "source": [
    "## Simple scatter XY plot\n",
    "\n",
    "Below is a simple scatter (XY) plot example, relating sepal_length (x) to sepal_width (y) it includes the regression line and plots the error bounds. \n",
    "\n",
    "The plot is saved as a png file called seaborn_simple_xy_plot.png\n"
   ]
  },
  {
   "cell_type": "code",
   "execution_count": null,
   "metadata": {},
   "outputs": [],
   "source": [
    "# 'height' controls the figure height in inches\n",
    "# 'truncate' prevents the regression extending beyond the data\n",
    "sns.lmplot(x=\"sepal_length\", y=\"sepal_width\", data=iris, height=5, truncate=True)\n",
    "plt.savefig(\"seaborn_simple_xy_plot.png\")"
   ]
  },
  {
   "cell_type": "markdown",
   "metadata": {},
   "source": [
    "## Scatter XY plot by speices\n",
    "Below is a scatter (XY) plot broken down by speices, relating sepal_length (x) to sepal_width (y) it includes the regression line and plots the error bounds.\n",
    "\n",
    "The plot is saved as a png file called seaborn_xy_plot_by_species.png\n"
   ]
  },
  {
   "cell_type": "code",
   "execution_count": null,
   "metadata": {},
   "outputs": [],
   "source": [
    "# Create a plot of sepal_length vs sepal_width where colour (hue) is controlled by the species\n",
    "#\n",
    "# 'height' controls the figure height in inches\n",
    "# 'truncate' prevents the regression extending beyond the data\n",
    "sns.lmplot(x=\"sepal_length\", y=\"sepal_width\", data=iris, hue=\"species\", height=5, truncate=True)\n",
    "plt.savefig(\"seaborn_xy_plot_by_species.png\")\n"
   ]
  },
  {
   "cell_type": "markdown",
   "metadata": {},
   "source": [
    "## Separate XY plot by speices\n",
    "below is a scatter (XY) plot with a separate plot per species, relating sepal_length (x) to sepal_width (y) it includes the regression line and plots the error bounds.\n",
    "\n",
    "The plot is saved as a png file called seaborn_xy_plot_by_separate_species.png\n"
   ]
  },
  {
   "cell_type": "code",
   "execution_count": null,
   "metadata": {},
   "outputs": [],
   "source": [
    "# Create a plot of sepal_length vs sepal_width where colour (hue) is controlled by the species\n",
    "# height controls the figure height in inches\n",
    "# truncate prevents the regression extending beyond the data\n",
    "sns.lmplot(x=\"sepal_length\", y=\"sepal_width\", data=iris, hue=\"species\", col=\"species\", height=5, truncate=True)\n",
    "\n",
    "plt.savefig(\"seaborn_xy_plot_by_separate_species.png\")\n"
   ]
  },
  {
   "cell_type": "markdown",
   "metadata": {},
   "source": [
    "## Boxplots\n",
    "\n",
    "Scatter and line plots are all part of Seaborn's relational plot tools. But sometimes we have categorical data (such as species) and might want to use box plots to explore this data.\n",
    "\n",
    "The melt function create a long dateframe (more rows with fewer columns) from a wide dateframe (fewer rows but more columns) \n",
    "\n",
    "The plot is saved as a png file called seaborn_boxplot.png\n"
   ]
  },
  {
   "cell_type": "markdown",
   "metadata": {},
   "source": [
    "<div style=\"border: 3px solid #d95f02; border-radius: 5px; padding: 10pt\"><strong>Exercise 12.1:</strong> Read the cell below. This cells aims to create a boxplot using <code>seaborn</code> for the sepal widths of each species (each species should be a different colour). Create a new Markdown cell below and write down, in plain English, what each line is doing. What does <code>.melt()</code> do and why is it needed?\n",
    "<br/>\n",
    "When you've done this, or if you get stuck, see the video <a href='https://youtu.be/rLcfMBMMNKM'>here</a> for a walkthrough.</div>"
   ]
  },
  {
   "cell_type": "code",
   "execution_count": null,
   "metadata": {},
   "outputs": [],
   "source": [
    "# 'Melt' the data\n",
    "iris_melted = iris.melt(id_vars=\"species\", value_vars=[\"sepal_length\", \"sepal_width\", \"petal_length\", \"petal_width\"], var_name=\"measure\", value_name=\"measurement\")\n",
    "\n",
    "# Plot the melted data\n",
    "sns.catplot(x=\"species\", y=\"measurement\", col=\"measure\", data=iris_melted, hue=\"species\", kind=\"box\", height=5, aspect=0.5)\n",
    "\n",
    "# Save the plot\n",
    "plt.savefig(\"seaborn_boxplot.png\")"
   ]
  },
  {
   "cell_type": "markdown",
   "metadata": {},
   "source": [
    "## Frequency histogram\n",
    "\n",
    "Frequency histogram bin the data and plot the frequency of each bin. Frequency histogram are useful for understanding how ranges of values occur, identifying patterns, creating quickly visual summary and using statistical distributions to describe data. \n",
    "\n",
    "The plot is saved as a png file called seaborn_boxplot.png\n"
   ]
  },
  {
   "cell_type": "code",
   "execution_count": null,
   "metadata": {},
   "outputs": [],
   "source": [
    "sns.histplot(data=iris, x=\"sepal_width\")\n",
    "\n",
    "plt.savefig(\"seaborn_simple_frequency_histogram.png\")"
   ]
  },
  {
   "cell_type": "markdown",
   "metadata": {},
   "source": [
    "## Frequency histogram by speices\n",
    "\n",
    "As before, the plot can be made on a specie specfic bases. \n",
    "\n",
    "The plot is saved as a png file called seaborn_frequency_histogram_by_speices.png\n",
    "\n"
   ]
  },
  {
   "cell_type": "code",
   "execution_count": null,
   "metadata": {},
   "outputs": [],
   "source": [
    "sns.histplot(data=iris, x=\"sepal_width\", hue=\"species\")\n",
    "plt.savefig(\"seaborn_frequency_histogram_by_speices.png\")"
   ]
  },
  {
   "cell_type": "markdown",
   "metadata": {},
   "source": [
    "## 2D - Frequency histogram by speices\n",
    "\n",
    "seaborn supports two dimensional frequency histograms.\n",
    "\n",
    "The plot is saved as a png file called seaborn_2D_frequency_histogram_by_speices.png\n",
    "\n"
   ]
  },
  {
   "cell_type": "code",
   "execution_count": null,
   "metadata": {},
   "outputs": [],
   "source": [
    "sns.histplot(data=iris, x=\"sepal_width\", y=\"sepal_length\")\n",
    "plt.savefig(\"seaborn_2D_frequency_histogram_by_speices.png\")"
   ]
  },
  {
   "cell_type": "markdown",
   "metadata": {},
   "source": [
    "## Scatter XY plot and Frequency histogram\n",
    "\n",
    "Both scatter plot and Frequency histogram can be combined in joint plot\n",
    "\n",
    "\n",
    "The plot is saved as a png file called seaborn_joint_plot.png\n",
    "\n"
   ]
  },
  {
   "cell_type": "code",
   "execution_count": null,
   "metadata": {},
   "outputs": [],
   "source": [
    "sns.jointplot(data=iris, x=\"sepal_length\", y=\"sepal_width\")\n",
    "plt.savefig(\"seaborn_joint_plot.png\")"
   ]
  },
  {
   "cell_type": "markdown",
   "metadata": {},
   "source": [
    "## Key Points\n",
    "\n",
    "* `seaborn` makes plotting lots of data very quick and easy\n",
    "* the code above can be used as templates for more advanced plots. \n",
    "* Knowing how to plot exactly what you want will come with time, practice and a bit of on-line searching!"
   ]
  },
  {
   "cell_type": "markdown",
   "metadata": {},
   "source": [
    "## Any Bugs/Issues/Comments?\n",
    "\n",
    "If you've found a bug or have any comments about this notebook, please fill out this on-line form: https://forms.gle/tp2veeF8e7fbQMvY6.\n",
    "\n",
    "Any feedback we get we will try to correct/implement as soon as possible."
   ]
  }
 ],
 "metadata": {
  "kernelspec": {
   "display_name": "Python 3 (ipykernel)",
   "language": "python",
   "name": "python3"
  },
  "language_info": {
   "codemirror_mode": {
    "name": "ipython",
    "version": 3
   },
   "file_extension": ".py",
   "mimetype": "text/x-python",
   "name": "python",
   "nbconvert_exporter": "python",
   "pygments_lexer": "ipython3",
   "version": "3.12.7"
  },
  "vscode": {
   "interpreter": {
    "hash": "d769866b6f821afb3302734fef8b56cb7dc86bcc8e4d86f160ade10a565e9457"
   }
  },
  "widgets": {
   "application/vnd.jupyter.widget-state+json": {
    "state": {},
    "version_major": 2,
    "version_minor": 0
   }
  }
 },
 "nbformat": 4,
 "nbformat_minor": 4
}
